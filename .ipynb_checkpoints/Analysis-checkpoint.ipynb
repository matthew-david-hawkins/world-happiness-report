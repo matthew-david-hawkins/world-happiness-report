{
 "cells": [
  {
   "cell_type": "code",
   "execution_count": 34,
   "metadata": {},
   "outputs": [
    {
     "data": {
      "text/html": [
       "<div>\n",
       "<style scoped>\n",
       "    .dataframe tbody tr th:only-of-type {\n",
       "        vertical-align: middle;\n",
       "    }\n",
       "\n",
       "    .dataframe tbody tr th {\n",
       "        vertical-align: top;\n",
       "    }\n",
       "\n",
       "    .dataframe thead th {\n",
       "        text-align: right;\n",
       "    }\n",
       "</style>\n",
       "<table border=\"1\" class=\"dataframe\">\n",
       "  <thead>\n",
       "    <tr style=\"text-align: right;\">\n",
       "      <th></th>\n",
       "      <th>Report Year</th>\n",
       "      <th>Overall Rank</th>\n",
       "      <th>Country</th>\n",
       "      <th>Happiness Score</th>\n",
       "    </tr>\n",
       "  </thead>\n",
       "  <tbody>\n",
       "    <tr>\n",
       "      <th>0</th>\n",
       "      <td>2015</td>\n",
       "      <td>1</td>\n",
       "      <td>Switzerland</td>\n",
       "      <td>7.587</td>\n",
       "    </tr>\n",
       "    <tr>\n",
       "      <th>1</th>\n",
       "      <td>2015</td>\n",
       "      <td>2</td>\n",
       "      <td>Iceland</td>\n",
       "      <td>7.561</td>\n",
       "    </tr>\n",
       "    <tr>\n",
       "      <th>2</th>\n",
       "      <td>2015</td>\n",
       "      <td>3</td>\n",
       "      <td>Denmark</td>\n",
       "      <td>7.527</td>\n",
       "    </tr>\n",
       "    <tr>\n",
       "      <th>3</th>\n",
       "      <td>2015</td>\n",
       "      <td>4</td>\n",
       "      <td>Norway</td>\n",
       "      <td>7.522</td>\n",
       "    </tr>\n",
       "    <tr>\n",
       "      <th>4</th>\n",
       "      <td>2015</td>\n",
       "      <td>5</td>\n",
       "      <td>Canada</td>\n",
       "      <td>7.427</td>\n",
       "    </tr>\n",
       "  </tbody>\n",
       "</table>\n",
       "</div>"
      ],
      "text/plain": [
       "   Report Year  Overall Rank      Country  Happiness Score\n",
       "0         2015             1  Switzerland            7.587\n",
       "1         2015             2      Iceland            7.561\n",
       "2         2015             3      Denmark            7.527\n",
       "3         2015             4       Norway            7.522\n",
       "4         2015             5       Canada            7.427"
      ]
     },
     "execution_count": 34,
     "metadata": {},
     "output_type": "execute_result"
    }
   ],
   "source": [
    "import pandas as pd\n",
    "import numpy as np\n",
    "df = pd.read_csv(\"Happiness_Report_2012_2020.csv\")\n",
    "df.head()"
   ]
  },
  {
   "cell_type": "code",
   "execution_count": 35,
   "metadata": {},
   "outputs": [
    {
     "name": "stdout",
     "output_type": "stream",
     "text": [
      "There were 1247 data points in the original Dataframe, but only 1247 usable points\n"
     ]
    }
   ],
   "source": [
    "# Any country that has a zero in any of the columns is not being compared on an equal footing, so remove it from the dataset\n",
    "df_clean = df.replace({'0':np.nan, 0:np.nan})\n",
    "df_clean = df_clean.dropna(how=\"any\")\n",
    "print(f\"There were {len(df)} data points in the original Dataframe, but only {len(df_clean)} usable points\")"
   ]
  },
  {
   "cell_type": "code",
   "execution_count": 36,
   "metadata": {},
   "outputs": [],
   "source": [
    "# Define the year values to loop through\n",
    "years = [2012, 2013, 2015, 2016, 2017, 2018, 2019, 2020]"
   ]
  },
  {
   "cell_type": "code",
   "execution_count": 37,
   "metadata": {},
   "outputs": [],
   "source": [
    "# Create a series of the of the countries to include in the analysis\n",
    "countries = df_clean.Country.unique()"
   ]
  },
  {
   "cell_type": "code",
   "execution_count": 38,
   "metadata": {},
   "outputs": [],
   "source": [
    "# Get the number of countries for future reference\n",
    "country_counts = df_clean.Country.value_counts()"
   ]
  },
  {
   "cell_type": "code",
   "execution_count": 39,
   "metadata": {},
   "outputs": [
    {
     "name": "stdout",
     "output_type": "stream",
     "text": [
      "There were 169 in the clean dataset, but only 139 countries that appeared in every report with clean data\n"
     ]
    }
   ],
   "source": [
    "# Exclude countries that are not present in all years of the report\n",
    "clean_countries = []\n",
    "for country in countries:\n",
    "    # If country has seven occurences, add it to clean_countries\n",
    "    if country_counts[f\"{country}\"] == 8:\n",
    "        clean_countries.append(country)\n",
    "\n",
    "print(f\"There were {len(countries)} in the clean dataset, but only {len(clean_countries)} countries that appeared in every report with clean data\")\n",
    "\n",
    "# Create a new dataframe that considers only the countries that are there every year\n",
    "df_clean = df.loc[df['Country'].isin(clean_countries)]"
   ]
  },
  {
   "cell_type": "code",
   "execution_count": 40,
   "metadata": {},
   "outputs": [],
   "source": [
    "# Create an empty df with columns \"Country\" \"Report Year\" \"Position Change\"\n",
    "yoy_df = pd.DataFrame(columns = ['Country', 'Report Year', \"Clean Rank\", \"Position Change\", \"Happiness Change\"])\n",
    "\n",
    "# grab only certain columns, and one year at a time. Sort it by \n",
    "dfs = []\n",
    "\n",
    "for year in years:\n",
    "    \n",
    "    rows_df = df_clean.loc[df['Report Year'] == year, df_clean.columns.isin([\"Country\", \"Report Year\", \"Overall Rank\", \"Happiness Score\"])].sort_values(by=['Overall Rank'])\n",
    "    rows_df[\"Clean Rank\"] = np.arange(0, len(df_clean.loc[df['Report Year'] == year]))\n",
    "    dfs.append(rows_df)"
   ]
  },
  {
   "cell_type": "code",
   "execution_count": 41,
   "metadata": {},
   "outputs": [
    {
     "name": "stdout",
     "output_type": "stream",
     "text": [
      "1093    2\n",
      "Name: Clean Rank, dtype: int32\n",
      "936    1\n",
      "Name: Clean Rank, dtype: int32\n",
      "3    3\n",
      "Name: Clean Rank, dtype: int32\n",
      "161    3\n",
      "Name: Clean Rank, dtype: int32\n",
      "315    0\n",
      "Name: Clean Rank, dtype: int32\n",
      "471    1\n",
      "Name: Clean Rank, dtype: int32\n"
     ]
    }
   ],
   "source": [
    "print(dfs[0].loc[dfs[0][\"Country\"] == \"Norway\", \"Clean Rank\"])\n",
    "print(dfs[1].loc[dfs[1][\"Country\"] == \"Norway\", \"Clean Rank\"])\n",
    "print(dfs[2].loc[dfs[2][\"Country\"] == \"Norway\", \"Clean Rank\"])\n",
    "print(dfs[3].loc[dfs[3][\"Country\"] == \"Norway\", \"Clean Rank\"])\n",
    "print(dfs[4].loc[dfs[4][\"Country\"] == \"Norway\", \"Clean Rank\"])\n",
    "print(dfs[5].loc[dfs[5][\"Country\"] == \"Norway\", \"Clean Rank\"])"
   ]
  },
  {
   "cell_type": "code",
   "execution_count": 42,
   "metadata": {},
   "outputs": [
    {
     "name": "stderr",
     "output_type": "stream",
     "text": [
      "C:\\Users\\hawki\\Anaconda3\\lib\\site-packages\\ipykernel_launcher.py:36: FutureWarning: Sorting because non-concatenation axis is not aligned. A future version\n",
      "of pandas will change to not sort by default.\n",
      "\n",
      "To accept the future behavior, pass 'sort=False'.\n",
      "\n",
      "To retain the current behavior and silence the warning, pass 'sort=True'.\n",
      "\n"
     ]
    }
   ],
   "source": [
    "for i in range(len(dfs) - 1):\n",
    "    \n",
    "    d_position = []\n",
    "    d_happiness = []\n",
    "    \n",
    "    for row in range(len(dfs[i])):\n",
    "        \n",
    "        country = dfs[i+1].iloc[row][\"Country\"]\n",
    "        # Get the data for a given country at the given year as well as the previous year\n",
    "        last_report = dfs[i].loc[dfs[i][\"Country\"] == f\"{country}\"]\n",
    "        new_report = dfs[i+1].loc[dfs[i+1][\"Country\"] == f\"{country}\"]\n",
    "\n",
    "        # Get only the rank and the overall happiness score\n",
    "        idx_new = new_report.index.to_list()\n",
    "        idx_last = last_report.index.to_list()\n",
    "\n",
    "        if len(idx_new) > 1:\n",
    "            print(f\"Error: Multiple reports recieved for {country} in {years[i+1]}\")\n",
    "                                                                       \n",
    "        elif len(idx_last) >1 :\n",
    "            print(f\"Error: Multiple reports recieved for {country} in {years[i]}\")\n",
    "\n",
    "        else:\n",
    "            new_pos = new_report.at[idx_new[0],\"Clean Rank\"]\n",
    "            last_pos = last_report.at[idx_last[0],\"Clean Rank\"]\n",
    "            new_happiness = new_report.at[idx_new[0],\"Happiness Score\"]\n",
    "            last_happiness = last_report.at[idx_last[0],\"Happiness Score\"]\n",
    "\n",
    "        d_position.append(last_pos - new_pos)\n",
    "        d_happiness.append(new_happiness - last_happiness)\n",
    "\n",
    "    dfs[i+1][\"Position Change\"] = d_position\n",
    "    dfs[i+1][\"Happiness Change\"] = d_happiness\n",
    "    #dfs[i+1] = dfs[i+1].astype({'Position Change': 'int32'})\n",
    "                                                                       \n",
    "    yoy_df = pd.concat([yoy_df, dfs[i+1]], ignore_index=True)\n",
    "\n",
    "yoy_df = yoy_df.astype({'Position Change': 'int32'})\n",
    "yoy_df = yoy_df.astype({'Clean Rank': 'int32'})\n",
    "\n"
   ]
  },
  {
   "cell_type": "code",
   "execution_count": 43,
   "metadata": {},
   "outputs": [
    {
     "data": {
      "text/html": [
       "<div>\n",
       "<style scoped>\n",
       "    .dataframe tbody tr th:only-of-type {\n",
       "        vertical-align: middle;\n",
       "    }\n",
       "\n",
       "    .dataframe tbody tr th {\n",
       "        vertical-align: top;\n",
       "    }\n",
       "\n",
       "    .dataframe thead th {\n",
       "        text-align: right;\n",
       "    }\n",
       "</style>\n",
       "<table border=\"1\" class=\"dataframe\">\n",
       "  <thead>\n",
       "    <tr style=\"text-align: right;\">\n",
       "      <th></th>\n",
       "      <th>Clean Rank</th>\n",
       "      <th>Country</th>\n",
       "      <th>Happiness Change</th>\n",
       "      <th>Happiness Score</th>\n",
       "      <th>Overall Rank</th>\n",
       "      <th>Position Change</th>\n",
       "      <th>Report Year</th>\n",
       "    </tr>\n",
       "  </thead>\n",
       "  <tbody>\n",
       "    <tr>\n",
       "      <th>1</th>\n",
       "      <td>1</td>\n",
       "      <td>Norway</td>\n",
       "      <td>0.125588</td>\n",
       "      <td>7.655</td>\n",
       "      <td>2.0</td>\n",
       "      <td>1</td>\n",
       "      <td>2013</td>\n",
       "    </tr>\n",
       "    <tr>\n",
       "      <th>142</th>\n",
       "      <td>3</td>\n",
       "      <td>Norway</td>\n",
       "      <td>-0.133000</td>\n",
       "      <td>7.522</td>\n",
       "      <td>4.0</td>\n",
       "      <td>-2</td>\n",
       "      <td>2015</td>\n",
       "    </tr>\n",
       "    <tr>\n",
       "      <th>281</th>\n",
       "      <td>3</td>\n",
       "      <td>Norway</td>\n",
       "      <td>-0.024000</td>\n",
       "      <td>7.498</td>\n",
       "      <td>4.0</td>\n",
       "      <td>0</td>\n",
       "      <td>2016</td>\n",
       "    </tr>\n",
       "    <tr>\n",
       "      <th>417</th>\n",
       "      <td>0</td>\n",
       "      <td>Norway</td>\n",
       "      <td>0.039000</td>\n",
       "      <td>7.537</td>\n",
       "      <td>1.0</td>\n",
       "      <td>3</td>\n",
       "      <td>2017</td>\n",
       "    </tr>\n",
       "    <tr>\n",
       "      <th>557</th>\n",
       "      <td>1</td>\n",
       "      <td>Norway</td>\n",
       "      <td>0.057000</td>\n",
       "      <td>7.594</td>\n",
       "      <td>2.0</td>\n",
       "      <td>-1</td>\n",
       "      <td>2018</td>\n",
       "    </tr>\n",
       "    <tr>\n",
       "      <th>697</th>\n",
       "      <td>2</td>\n",
       "      <td>Norway</td>\n",
       "      <td>-0.040000</td>\n",
       "      <td>7.554</td>\n",
       "      <td>3.0</td>\n",
       "      <td>-1</td>\n",
       "      <td>2019</td>\n",
       "    </tr>\n",
       "    <tr>\n",
       "      <th>838</th>\n",
       "      <td>4</td>\n",
       "      <td>Norway</td>\n",
       "      <td>-0.066000</td>\n",
       "      <td>7.488</td>\n",
       "      <td>5.0</td>\n",
       "      <td>-2</td>\n",
       "      <td>2020</td>\n",
       "    </tr>\n",
       "  </tbody>\n",
       "</table>\n",
       "</div>"
      ],
      "text/plain": [
       "     Clean Rank Country  Happiness Change  Happiness Score  Overall Rank  \\\n",
       "1             1  Norway          0.125588            7.655           2.0   \n",
       "142           3  Norway         -0.133000            7.522           4.0   \n",
       "281           3  Norway         -0.024000            7.498           4.0   \n",
       "417           0  Norway          0.039000            7.537           1.0   \n",
       "557           1  Norway          0.057000            7.594           2.0   \n",
       "697           2  Norway         -0.040000            7.554           3.0   \n",
       "838           4  Norway         -0.066000            7.488           5.0   \n",
       "\n",
       "     Position Change Report Year  \n",
       "1                  1        2013  \n",
       "142               -2        2015  \n",
       "281                0        2016  \n",
       "417                3        2017  \n",
       "557               -1        2018  \n",
       "697               -1        2019  \n",
       "838               -2        2020  "
      ]
     },
     "execution_count": 43,
     "metadata": {},
     "output_type": "execute_result"
    }
   ],
   "source": [
    "yoy_df.loc[yoy_df[\"Country\"] == \"Norway\"]"
   ]
  },
  {
   "cell_type": "code",
   "execution_count": 44,
   "metadata": {},
   "outputs": [],
   "source": [
    "summary_df = yoy_df.groupby([\"Country\"]).mean()"
   ]
  },
  {
   "cell_type": "code",
   "execution_count": 45,
   "metadata": {},
   "outputs": [
    {
     "name": "stdout",
     "output_type": "stream",
     "text": [
      "                     Clean Rank  Happiness Change  Happiness Score  \\\n",
      "Country                                                              \n",
      "Benin                120.000000          0.247073         4.035571   \n",
      "Congo (Brazzaville)  107.571429          0.197656         4.482629   \n",
      "Philippines           71.000000          0.169258         5.418286   \n",
      "Serbia                75.428571          0.172948         5.326743   \n",
      "Latvia                62.142857          0.170463         5.625286   \n",
      "...                         ...               ...              ...   \n",
      "India                114.571429         -0.197192         4.262043   \n",
      "Myanmar              113.428571         -0.145215         4.380286   \n",
      "Turkmenistan          67.428571         -0.203154         5.522586   \n",
      "Jordan                82.571429         -0.155493         5.135057   \n",
      "Venezuela             63.857143         -0.262988         5.678457   \n",
      "\n",
      "                     Overall Rank  Position Change  \n",
      "Country                                             \n",
      "Benin                  132.857143         7.714286  \n",
      "Congo (Brazzaville)    117.714286         6.857143  \n",
      "Philippines             75.428571         6.142857  \n",
      "Serbia                  80.571429         6.142857  \n",
      "Latvia                  66.000000         5.857143  \n",
      "...                           ...              ...  \n",
      "India                  126.428571        -6.285714  \n",
      "Myanmar                125.285714        -7.714286  \n",
      "Turkmenistan            71.857143        -8.714286  \n",
      "Jordan                  88.571429        -8.857143  \n",
      "Venezuela               68.285714       -10.857143  \n",
      "\n",
      "[139 rows x 5 columns]\n"
     ]
    }
   ],
   "source": [
    "print(summary_df.sort_values(by=\"Position Change\", ascending=False))"
   ]
  },
  {
   "cell_type": "code",
   "execution_count": 46,
   "metadata": {},
   "outputs": [
    {
     "name": "stdout",
     "output_type": "stream",
     "text": [
      "                     Clean Rank  Happiness Change  Happiness Score  \\\n",
      "Country                                                              \n",
      "Benin                120.000000          0.247073         4.035571   \n",
      "Congo (Brazzaville)  107.571429          0.197656         4.482629   \n",
      "Serbia                75.428571          0.172948         5.326743   \n",
      "Bulgaria             105.714286          0.172801         4.596500   \n",
      "Latvia                62.142857          0.170463         5.625286   \n",
      "...                         ...               ...              ...   \n",
      "Botswana             127.571429         -0.155524         3.799843   \n",
      "India                114.571429         -0.197192         4.262043   \n",
      "Turkmenistan          67.428571         -0.203154         5.522586   \n",
      "Afghanistan          133.000000         -0.239478         3.452986   \n",
      "Venezuela             63.857143         -0.262988         5.678457   \n",
      "\n",
      "                     Overall Rank  Position Change  \n",
      "Country                                             \n",
      "Benin                  132.857143         7.714286  \n",
      "Congo (Brazzaville)    117.714286         6.857143  \n",
      "Serbia                  80.571429         6.142857  \n",
      "Bulgaria               115.000000         5.714286  \n",
      "Latvia                  66.000000         5.857143  \n",
      "...                           ...              ...  \n",
      "Botswana               141.857143        -4.142857  \n",
      "India                  126.428571        -6.285714  \n",
      "Turkmenistan            71.857143        -8.714286  \n",
      "Afghanistan            149.000000        -3.000000  \n",
      "Venezuela               68.285714       -10.857143  \n",
      "\n",
      "[139 rows x 5 columns]\n"
     ]
    }
   ],
   "source": [
    "print(summary_df.sort_values(by=\"Happiness Change\", ascending=False))"
   ]
  },
  {
   "cell_type": "code",
   "execution_count": null,
   "metadata": {},
   "outputs": [],
   "source": []
  },
  {
   "cell_type": "code",
   "execution_count": null,
   "metadata": {},
   "outputs": [],
   "source": []
  }
 ],
 "metadata": {
  "kernelspec": {
   "display_name": "Python 3",
   "language": "python",
   "name": "python3"
  },
  "language_info": {
   "codemirror_mode": {
    "name": "ipython",
    "version": 3
   },
   "file_extension": ".py",
   "mimetype": "text/x-python",
   "name": "python",
   "nbconvert_exporter": "python",
   "pygments_lexer": "ipython3",
   "version": "3.7.4"
  }
 },
 "nbformat": 4,
 "nbformat_minor": 2
}
